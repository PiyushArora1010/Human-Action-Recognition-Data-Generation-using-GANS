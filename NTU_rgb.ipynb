{
 "cells": [
  {
   "cell_type": "code",
   "execution_count": 1,
   "metadata": {},
   "outputs": [],
   "source": [
    "import pandas as pd\n",
    "import numpy as np\n",
    "import torch\n",
    "import matplotlib.pyplot as plt\n",
    "import torch.nn as nn\n",
    "import torch.nn.functional as F\n",
    "from tqdm import tqdm\n",
    "from torch.autograd import Variable\n",
    "from torch.utils.data import DataLoader, Dataset\n",
    "from torchsummary import summary"
   ]
  },
  {
   "cell_type": "code",
   "execution_count": 2,
   "metadata": {},
   "outputs": [],
   "source": [
    "frames =80"
   ]
  },
  {
   "cell_type": "code",
   "execution_count": 3,
   "metadata": {},
   "outputs": [],
   "source": [
    "import os \n",
    "import shutil\n",
    "from os import listdir\n",
    "from os.path import isfile, join\n",
    "mypath = '../Data/numpy_skeletons/'\n",
    "onlyfiles = [f for f in listdir(mypath) if isfile(join(mypath, f))]"
   ]
  },
  {
   "cell_type": "code",
   "execution_count": 4,
   "metadata": {},
   "outputs": [],
   "source": [
    "temp = np.load(mypath + onlyfiles[0],allow_pickle=True).item()"
   ]
  },
  {
   "cell_type": "code",
   "execution_count": 5,
   "metadata": {},
   "outputs": [
    {
     "name": "stdout",
     "output_type": "stream",
     "text": [
      "file_name\n",
      "nbodys\n",
      "njoints\n",
      "skel_body0\n",
      "rgb_body0\n",
      "depth_body0\n"
     ]
    }
   ],
   "source": [
    "for i in temp:\n",
    "    print(i)"
   ]
  },
  {
   "cell_type": "code",
   "execution_count": 6,
   "metadata": {},
   "outputs": [
    {
     "name": "stderr",
     "output_type": "stream",
     "text": [
      "100%|██████████| 56579/56579 [01:21<00:00, 694.98it/s]\n"
     ]
    }
   ],
   "source": [
    "Data = []\n",
    "labels = []\n",
    "for file in tqdm(onlyfiles):\n",
    "    labels.append(int(file.split('.')[0][-3:]))\n",
    "    temp = np.load(mypath + file,allow_pickle=True).item()\n",
    "    frameTemp = temp['skel_body0'].shape[0]\n",
    "    framesSelected = [i for i in range(frameTemp)]\n",
    "    framesSelected = framesSelected[:frames]\n",
    "    while len(framesSelected) < frames:\n",
    "        random = np.random.randint(0 , frameTemp)\n",
    "        framesSelected.append(random)\n",
    "    framesSelected = sorted(framesSelected)\n",
    "    temp = temp['skel_body0'][framesSelected]\n",
    "    Data.append(temp)"
   ]
  },
  {
   "cell_type": "code",
   "execution_count": 7,
   "metadata": {},
   "outputs": [],
   "source": [
    "Data = np.array(Data)"
   ]
  },
  {
   "cell_type": "code",
   "execution_count": 8,
   "metadata": {},
   "outputs": [],
   "source": [
    "# Data = np.transpose(Data, (0,3,1,2))"
   ]
  },
  {
   "cell_type": "code",
   "execution_count": 13,
   "metadata": {},
   "outputs": [
    {
     "data": {
      "text/plain": [
       "<matplotlib.collections.PathCollection at 0x2bb7f4f6190>"
      ]
     },
     "execution_count": 13,
     "metadata": {},
     "output_type": "execute_result"
    },
    {
     "data": {
      "image/png": "[encoded data removed]",
      "text/plain": [
       "<Figure size 432x288 with 1 Axes>"
      ]
     },
     "metadata": {
      "needs_background": "light"
     },
     "output_type": "display_data"
    }
   ],
   "source": [
    "plt.scatter(Data[0][1][:,0],Data[0][1][:,1])"
   ]
  },
  {
   "cell_type": "code",
   "execution_count": 12,
   "metadata": {},
   "outputs": [],
   "source": [
    "max_data_z = np.max(Data[:,2,:,:])\n",
    "min_data_z = np.min(Data[:,2,:,:])\n",
    "range_z = max_data_z - min_data_z\n",
    "Data[:,2,:,:] = (Data[:,2,:,:] - min_data_z)/range_z"
   ]
  },
  {
   "cell_type": "code",
   "execution_count": 13,
   "metadata": {},
   "outputs": [],
   "source": [
    "max_data_y = np.max(Data[:,1:,:])\n",
    "min_data_y = np.min(Data[:,1:,:])\n",
    "range_y = max_data_y - min_data_y\n",
    "Data[:,1,:,:] = (Data[:,1,:,:] - min_data_y)/range_y"
   ]
  },
  {
   "cell_type": "code",
   "execution_count": 14,
   "metadata": {},
   "outputs": [],
   "source": [
    "max_data_x = np.max(Data[:,0,:,:])\n",
    "min_data_x = np.min(Data[:,0,:,:])\n",
    "range_x = max_data_x - min_data_x\n",
    "Data[:,0,:,:] = (Data[:,0,:,:] - min_data_x)/range_x"
   ]
  },
  {
   "cell_type": "code",
   "execution_count": 15,
   "metadata": {},
   "outputs": [],
   "source": [
    "Data = Data - 0.5"
   ]
  },
  {
   "cell_type": "code",
   "execution_count": 16,
   "metadata": {},
   "outputs": [],
   "source": [
    "labels = np.array(labels).astype('int32')"
   ]
  },
  {
   "cell_type": "code",
   "execution_count": 17,
   "metadata": {},
   "outputs": [],
   "source": [
    "labels = labels - 1"
   ]
  },
  {
   "cell_type": "code",
   "execution_count": 18,
   "metadata": {},
   "outputs": [],
   "source": [
    "Data = Data [ labels < 10 ]\n",
    "labels = labels [labels < 10]"
   ]
  },
  {
   "cell_type": "code",
   "execution_count": 19,
   "metadata": {},
   "outputs": [],
   "source": [
    "Data_torch = torch.from_numpy(Data.astype('float32'))\n",
    "y = torch.from_numpy(labels.astype('int32'))"
   ]
  },
  {
   "cell_type": "code",
   "execution_count": 20,
   "metadata": {},
   "outputs": [],
   "source": [
    "device = torch.device('cuda' if torch.cuda.is_available() else 'cpu')"
   ]
  },
  {
   "cell_type": "code",
   "execution_count": 21,
   "metadata": {},
   "outputs": [],
   "source": [
    "class CustomDataset(Dataset):\n",
    "    def __init__(self,imgs,labels):\n",
    "        self.imgs = imgs\n",
    "        self.labels = labels\n",
    "    def __len__(self):\n",
    "        return len(self.labels)\n",
    "\n",
    "    def __getitem__(self, idx):\n",
    "        return self.imgs[idx], self.labels[idx]\n",
    "\n",
    "dataset = CustomDataset(Data_torch, y)"
   ]
  },
  {
   "cell_type": "code",
   "execution_count": 22,
   "metadata": {},
   "outputs": [],
   "source": [
    "dataloader = DataLoader(\n",
    "    dataset=dataset,\n",
    "    batch_size=256,\n",
    "    shuffle=True,\n",
    "    drop_last = True\n",
    ")"
   ]
  },
  {
   "cell_type": "code",
   "execution_count": 23,
   "metadata": {},
   "outputs": [],
   "source": [
    "torch.save(dataloader, 'dataloader_NTU.pth')"
   ]
  },
  {
   "cell_type": "code",
   "execution_count": 18,
   "metadata": {},
   "outputs": [
    {
     "name": "stderr",
     "output_type": "stream",
     "text": [
      "Using cache found in C:\\Users\\ASUS/.cache\\torch\\hub\\pytorch_vision_v0.10.0\n"
     ]
    }
   ],
   "source": [
    "featureExtractor = torch.hub.load('pytorch/vision:v0.10.0', 'resnet18', pretrained=True)"
   ]
  },
  {
   "cell_type": "code",
   "execution_count": 19,
   "metadata": {},
   "outputs": [
    {
     "name": "stdout",
     "output_type": "stream",
     "text": [
      "Feature Extractor Downloaded\n"
     ]
    }
   ],
   "source": [
    "# model = models.resnet152(pretrained=True)\n",
    "featureExtractor = torch.nn.Sequential(*(list(featureExtractor.children())[:-1]))\n",
    "featureExtractor.forward(Data_torch[0:10]).size()\n",
    "featureExtractor.eval()\n",
    "print(\"Feature Extractor Downloaded\")"
   ]
  },
  {
   "cell_type": "code",
   "execution_count": 33,
   "metadata": {},
   "outputs": [],
   "source": [
    "def mean_and_cov(Data_):\n",
    "    tempData = featureExtractor(Data_)\n",
    "    tempData = tempData.view(-1, 512)\n",
    "    meanData = torch.mean(tempData, dim = 0)\n",
    "    covData = torch.cov(torch.t(tempData))\n",
    "    return meanData, covData"
   ]
  },
  {
   "cell_type": "code",
   "execution_count": 23,
   "metadata": {},
   "outputs": [],
   "source": [
    "del Data, labels"
   ]
  },
  {
   "cell_type": "code",
   "execution_count": 63,
   "metadata": {},
   "outputs": [],
   "source": [
    "def fid(realData, generated_images):\n",
    "    mean_o,cov_o = mean_and_cov(realData)\n",
    "    mean_g,cov_g = mean_and_cov(generated_images)\n",
    "\n",
    "    ## || u1 - u2 || ^ 2\n",
    "    mean_diff = torch.sum((mean_o - mean_g)**2)\n",
    "    \n",
    "    ## Trace of matrix\n",
    "    covMean = torch.sqrt( cov_o.to(torch.cfloat) @ cov_g.to(torch.cfloat) ).real\n",
    "\n",
    "    return mean_diff + torch.trace( cov_o + cov_g - 2 * covMean)"
   ]
  },
  {
   "cell_type": "code",
   "execution_count": 19,
   "metadata": {},
   "outputs": [],
   "source": [
    "class Discriminator(nn.Module):\n",
    "    def __init__(self):\n",
    "        super().__init__()\n",
    "        self.input = nn.Sequential(\n",
    "            nn.Conv2d(4, 64, 3, 1, 1),\n",
    "            nn.BatchNorm2d(64),\n",
    "            nn.LeakyReLU(negative_slope=0.2, inplace=True))\n",
    "        self.embed = nn.Embedding(60 , 25 * frames)\n",
    "        self.hiddenLayers = nn.Sequential(\n",
    "            nn.Conv2d(64, 128, 3, 1, 1),\n",
    "            nn.LeakyReLU(negative_slope=0.2, inplace=True),\n",
    "            nn.BatchNorm2d(128),\n",
    "            nn.Conv2d(128,256,3,1,1),\n",
    "            nn.BatchNorm2d(256),\n",
    "            nn.LeakyReLU(negative_slope=0.2, inplace=True)    \n",
    "        )\n",
    "        self.fc = nn.Linear(640000, 512)\n",
    "        self.output = nn.Sequential(\n",
    "            nn.Linear(512,1),\n",
    "            nn.Sigmoid()\n",
    "        )\n",
    "    def forward(self, x, label):\n",
    "        label_embed = self.embed(label)\n",
    "        label_embed = label_embed.view(label_embed.size(0),1,100,25)\n",
    "        finalInput = torch.cat([x, label_embed], dim=1)\n",
    "        finalInput = self.input(finalInput)\n",
    "        finalInput = self.hiddenLayers(finalInput)\n",
    "        finalInput = finalInput.view(finalInput.size(0),-1)\n",
    "        finalInput = self.fc(finalInput)\n",
    "        finalInput = self.output(finalInput)\n",
    "        return finalInput"
   ]
  },
  {
   "cell_type": "code",
   "execution_count": 20,
   "metadata": {},
   "outputs": [],
   "source": [
    "class Generator(nn.Module):\n",
    "    def __init__(self):\n",
    "        super().__init__()\n",
    "        self.embed = nn.Embedding(60, 100)\n",
    "        self.input = nn.Sequential(\n",
    "            nn.ConvTranspose2d(200, 512, 4, 1, 0),\n",
    "            nn.BatchNorm2d(512),\n",
    "            nn.ReLU()\n",
    "        )\n",
    "        self.hiddenlayers = nn.Sequential(\n",
    "            nn.ConvTranspose2d(512, 256, 4, 2, 1),\n",
    "            nn.BatchNorm2d(256),\n",
    "            nn.ReLU(), \n",
    "            nn.ConvTranspose2d(256, 128, 4, 2, 1),\n",
    "            nn.BatchNorm2d(128),\n",
    "            nn.ReLU(),  \n",
    "            nn.ConvTranspose2d(128, 64, 4, 2, 1),\n",
    "            nn.BatchNorm2d(64),\n",
    "            nn.ReLU(),         \n",
    "            nn.ConvTranspose2d(64, 16, 4 , 2, 1) \n",
    "        )\n",
    "        self.layer = nn.Linear(65536, 7500)\n",
    "        self.output = nn.Tanh()\n",
    "    def forward(self,x, label):\n",
    "        labelEmb = self.embed(label)\n",
    "        labelEmb = labelEmb.view(labelEmb.size(0), 100, 1, 1)\n",
    "        finalInput = torch.cat([x, labelEmb], dim = 1)\n",
    "        finalInput = self.input(finalInput)\n",
    "        finalInput = self.hiddenlayers(finalInput)\n",
    "        finalInput = finalInput.view(finalInput.size(0),-1)\n",
    "        finalInput = self.layer(finalInput)\n",
    "        \n",
    "        finalInput = finalInput.view(finalInput.size(0), 3, 100, 25)\n",
    "        return self.output(finalInput)"
   ]
  },
  {
   "cell_type": "code",
   "execution_count": 22,
   "metadata": {},
   "outputs": [],
   "source": [
    "'''\n",
    "Models\n",
    "'''\n",
    "generator = Generator().to(device)\n",
    "discriminator = Discriminator().to(device)"
   ]
  },
  {
   "cell_type": "code",
   "execution_count": 24,
   "metadata": {},
   "outputs": [],
   "source": [
    "'''\n",
    "Losses\n",
    "'''\n",
    "adversarial_loss = nn.BCELoss()\n",
    "adversarial_loss = adversarial_loss.cuda()"
   ]
  },
  {
   "cell_type": "code",
   "execution_count": 23,
   "metadata": {},
   "outputs": [],
   "source": [
    "optimizer_G = torch.optim.Adam(generator.parameters(),lr=0.00002, betas=(0.5, 0.999) )\n",
    "optimizer_D = torch.optim.Adam(discriminator.parameters(),lr=0.00002, betas=(0.5, 0.999))"
   ]
  },
  {
   "cell_type": "code",
   "execution_count": 25,
   "metadata": {},
   "outputs": [],
   "source": [
    "cuda = torch.cuda.is_available()"
   ]
  },
  {
   "cell_type": "code",
   "execution_count": 26,
   "metadata": {},
   "outputs": [],
   "source": [
    "Tensor = torch.cuda.FloatTensor if cuda else torch.FloatTensor\n",
    "\n",
    "epochs = 2000"
   ]
  },
  {
   "cell_type": "code",
   "execution_count": 23,
   "metadata": {},
   "outputs": [],
   "source": [
    "for epoch in tqdm(range(epochs)):\n",
    "    gLoss = -1\n",
    "    dLoss = -1\n",
    "    f1score = float(\"inf\")\n",
    "    for index, (data, label) in enumerate(dataloader):\n",
    "\n",
    "        valid = Variable(Tensor(data.size(0), 1).fill_(1.0), requires_grad=False)\n",
    "        fake = Variable(Tensor(data.size(0), 1).fill_(0.0), requires_grad=False)\n",
    "\n",
    "        label = label.to(device)\n",
    "\n",
    "        real_imgs = Variable(data.type(Tensor))\n",
    "        optimizer_G.zero_grad()\n",
    "\n",
    "        z = Variable(Tensor(np.random.normal(0, 1, (data.shape[0], 100,1,1))))\n",
    "\n",
    "        gen_imgs = generator(z,label)\n",
    "\n",
    "        gen_imgs = gen_imgs.to(device)\n",
    "\n",
    "        g_loss = adversarial_loss(discriminator(gen_imgs,label), valid)\n",
    "        g_loss.backward()\n",
    "        optimizer_G.step()\n",
    "\n",
    "        optimizer_D.zero_grad()\n",
    "\n",
    "        real_loss = adversarial_loss(discriminator(real_imgs,label), valid)\n",
    "        fake_loss = adversarial_loss(discriminator(gen_imgs.detach(),label), fake)\n",
    "\n",
    "        d_loss = (real_loss + fake_loss)\n",
    "\n",
    "        d_loss.backward()\n",
    "\n",
    "        optimizer_D.step()\n",
    "\n",
    "        gLoss = g_loss.item()\n",
    "        dLoss = d_loss.item()\n",
    "\n",
    "        f1Temp = -(gLoss * dLoss) / (gLoss + dLoss)\n",
    "        if f1Temp < f1score:\n",
    "            f1score = f1Temp\n",
    "            torch.save(generator.state_dict(),'Models/generator.pth')\n",
    "    if (epoch+1)%50 == 0:\n",
    "        print('gLoss ==>',round(gLoss,4))\n",
    "        print(\"dLoss ==>\",round(dLoss,4))"
   ]
  },
  {
   "cell_type": "code",
   "execution_count": null,
   "metadata": {},
   "outputs": [],
   "source": [
    "images = generator(torch.randn(1, 100 , 1 , 1).to(device), torch.tensor([[1]]).to(device))"
   ]
  }
 ],
 "metadata": {
  "interpreter": {
   "hash": "43d067841d78aac7fa29634787a4d238b2cfa1e9a088c54a4c88156792dfd315"
  },
  "kernelspec": {
   "display_name": "Python 3.9.12 ('machineLearning')",
   "language": "python",
   "name": "python3"
  },
  "language_info": {
   "codemirror_mode": {
    "name": "ipython",
    "version": 3
   },
   "file_extension": ".py",
   "mimetype": "text/x-python",
   "name": "python",
   "nbconvert_exporter": "python",
   "pygments_lexer": "ipython3",
   "version": "3.9.12"
  },
  "orig_nbformat": 4
 },
 "nbformat": 4,
 "nbformat_minor": 2
}
