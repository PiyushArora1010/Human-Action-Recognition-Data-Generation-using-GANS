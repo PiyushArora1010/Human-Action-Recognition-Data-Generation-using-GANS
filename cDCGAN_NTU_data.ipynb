{
  "cells": [
    {
      "cell_type": "code",
      "execution_count": 1,
      "metadata": {
        "colab": {
          "base_uri": "https://localhost:8080/"
        },
        "id": "z-dIl---gYyT",
        "outputId": "d93855d3-da98-4ddb-a399-a89755a52f21"
      },
      "outputs": [
        {
          "output_type": "stream",
          "name": "stdout",
          "text": [
            "Drive already mounted at /content/drive; to attempt to forcibly remount, call drive.mount(\"/content/drive\", force_remount=True).\n"
          ]
        }
      ],
      "source": [
        "from google.colab import drive\n",
        "drive.mount('/content/drive')"
      ]
    },
    {
      "cell_type": "code",
      "execution_count": 2,
      "metadata": {
        "colab": {
          "base_uri": "https://localhost:8080/"
        },
        "id": "h5jBgiRIgeXD",
        "outputId": "f5772c6a-75ae-4bdb-f5d0-77a7c262df81"
      },
      "outputs": [
        {
          "output_type": "stream",
          "name": "stdout",
          "text": [
            "/content/drive/MyDrive/France_Research/Codes\n"
          ]
        }
      ],
      "source": [
        "%cd /content/drive/MyDrive/France_Research/Codes/"
      ]
    },
    {
      "cell_type": "code",
      "execution_count": 3,
      "metadata": {
        "id": "4UmRIuD5gDo7"
      },
      "outputs": [],
      "source": [
        "import pandas as pd\n",
        "import numpy as np\n",
        "import torch\n",
        "import matplotlib.pyplot as plt\n",
        "import torch.nn as nn\n",
        "import torch.nn.functional as F\n",
        "from tqdm import tqdm\n",
        "from torch.autograd import Variable\n",
        "from torch.utils.data import DataLoader, Dataset"
      ]
    },
    {
      "cell_type": "code",
      "execution_count": 4,
      "metadata": {
        "id": "p1KKKNmzgDo9"
      },
      "outputs": [],
      "source": [
        "frames = 100"
      ]
    },
    {
      "cell_type": "code",
      "execution_count": 5,
      "metadata": {
        "colab": {
          "base_uri": "https://localhost:8080/"
        },
        "id": "5iTweCxOgDo-",
        "outputId": "3cdc43f6-d6df-48dd-f64c-f3f4fc01d2e8"
      },
      "outputs": [
        {
          "output_type": "stream",
          "name": "stderr",
          "text": [
            "100%|██████████| 12664/12664 [00:01<00:00, 11381.52it/s]\n"
          ]
        }
      ],
      "source": [
        "import os \n",
        "import shutil\n",
        "from os import listdir\n",
        "from os.path import isfile, join\n",
        "mypath = 'numpy_skeletons/'\n",
        "onlyfiles = [f for f in tqdm(listdir(mypath)) if isfile(join(mypath, f))]"
      ]
    },
    {
      "cell_type": "code",
      "execution_count": 6,
      "metadata": {
        "id": "1aYMZrilgDo-",
        "outputId": "bd54b2e2-dd92-4ae6-d60b-9717ce9ee738",
        "colab": {
          "base_uri": "https://localhost:8080/"
        }
      },
      "outputs": [
        {
          "output_type": "stream",
          "name": "stderr",
          "text": [
            "100%|██████████| 12664/12664 [00:32<00:00, 393.13it/s]\n"
          ]
        }
      ],
      "source": [
        "Data = []\n",
        "labels = []\n",
        "for file in tqdm(onlyfiles):\n",
        "    labels.append(int(file.split('.')[0][-3:]))\n",
        "    temp = np.load(mypath + file,allow_pickle=True).item()\n",
        "    frameTemp = temp['skel_body0'].shape[0]\n",
        "    framesSelected = [i for i in range(frameTemp)]\n",
        "    framesSelected = framesSelected[:frames]\n",
        "    while len(framesSelected) < frames:\n",
        "        random = np.random.randint(0 , frameTemp)\n",
        "        framesSelected.append(random)\n",
        "    framesSelected = sorted(framesSelected)\n",
        "    temp = temp['skel_body0'][framesSelected]\n",
        "    Data.append(temp)"
      ]
    },
    {
      "cell_type": "code",
      "execution_count": 7,
      "metadata": {
        "id": "N4efCV5HgDo_"
      },
      "outputs": [],
      "source": [
        "Data = np.array(Data)"
      ]
    },
    {
      "cell_type": "code",
      "execution_count": 8,
      "metadata": {
        "id": "2B84kIr3gDpA"
      },
      "outputs": [],
      "source": [
        "Data = np.transpose(Data, (0,3,1,2))"
      ]
    },
    {
      "cell_type": "code",
      "execution_count": 9,
      "metadata": {
        "id": "XPw_lptMgDpA"
      },
      "outputs": [],
      "source": [
        "max_data_z = np.max(Data[:,2,:,:])\n",
        "min_data_z = np.min(Data[:,2,:,:])\n",
        "range_z = max_data_z - min_data_z\n",
        "Data[:,2,:,:] = (Data[:,2,:,:] - min_data_z)/range_z"
      ]
    },
    {
      "cell_type": "code",
      "execution_count": 10,
      "metadata": {
        "id": "4SQYCtubgDpB"
      },
      "outputs": [],
      "source": [
        "max_data_y = np.max(Data[:,1:,:])\n",
        "min_data_y = np.min(Data[:,1:,:])\n",
        "range_y = max_data_y - min_data_y\n",
        "Data[:,1,:,:] = (Data[:,1,:,:] - min_data_y)/range_y"
      ]
    },
    {
      "cell_type": "code",
      "execution_count": 11,
      "metadata": {
        "id": "zIWMwmCggDpB"
      },
      "outputs": [],
      "source": [
        "max_data_x = np.max(Data[:,0,:,:])\n",
        "min_data_x = np.min(Data[:,0,:,:])\n",
        "range_x = max_data_x - min_data_x\n",
        "Data[:,0,:,:] = (Data[:,0,:,:] - min_data_x)/range_x"
      ]
    },
    {
      "cell_type": "code",
      "execution_count": 12,
      "metadata": {
        "id": "mYatbHdTgDpC"
      },
      "outputs": [],
      "source": [
        "Data = Data - 0.5"
      ]
    },
    {
      "cell_type": "code",
      "execution_count": 13,
      "metadata": {
        "id": "kB_qvdtlgDpC"
      },
      "outputs": [],
      "source": [
        "labels = np.array(labels).astype('int32')"
      ]
    },
    {
      "cell_type": "code",
      "execution_count": 14,
      "metadata": {
        "id": "5W6zRMlEgDpD"
      },
      "outputs": [],
      "source": [
        "Data_torch = torch.from_numpy(Data.astype('float32'))\n",
        "y = torch.from_numpy(labels.astype('int32'))"
      ]
    },
    {
      "cell_type": "code",
      "execution_count": 15,
      "metadata": {
        "id": "Ko5cqGyIgDpD"
      },
      "outputs": [],
      "source": [
        "class CustomDataset(Dataset):\n",
        "    def __init__(self,imgs,labels):\n",
        "        self.imgs = imgs\n",
        "        self.labels = labels\n",
        "    def __len__(self):\n",
        "        return len(self.labels)\n",
        "\n",
        "    def __getitem__(self, idx):\n",
        "        return self.imgs[idx], self.labels[idx]\n",
        "\n",
        "dataset = CustomDataset(Data_torch, y)"
      ]
    },
    {
      "cell_type": "code",
      "execution_count": 16,
      "metadata": {
        "id": "Ef8U4FYkgDpD"
      },
      "outputs": [],
      "source": [
        "dataloader = DataLoader(\n",
        "    dataset=dataset,\n",
        "    batch_size=128,\n",
        "    shuffle=True,\n",
        "    drop_last = True\n",
        ")"
      ]
    },
    {
      "cell_type": "code",
      "execution_count": 17,
      "metadata": {
        "id": "9uDB4QCugDpD"
      },
      "outputs": [],
      "source": [
        "class Discriminator(nn.Module):\n",
        "    def __init__(self):\n",
        "        super().__init__()\n",
        "        self.input = nn.Sequential(\n",
        "            nn.Conv2d(4, 64, 3, 1, 1),\n",
        "            nn.BatchNorm2d(64),\n",
        "            nn.LeakyReLU(negative_slope=0.2, inplace=True))\n",
        "        self.embed = nn.Embedding(61 , 25 * frames)\n",
        "        self.hiddenLayers = nn.Sequential(\n",
        "            nn.Conv2d(64, 128, 3, 1, 1),\n",
        "            nn.LeakyReLU(negative_slope=0.2, inplace=True),\n",
        "            nn.BatchNorm2d(128),\n",
        "            nn.Conv2d(128,256,3,1,1),\n",
        "            nn.BatchNorm2d(256),\n",
        "            nn.LeakyReLU(negative_slope=0.2, inplace=True)    \n",
        "        )\n",
        "        self.fc = nn.Linear(640000, 512)\n",
        "        self.output = nn.Sequential(\n",
        "            nn.Linear(512,1),\n",
        "            nn.Sigmoid()\n",
        "        )\n",
        "    def forward(self, x, label):\n",
        "        label_embed = self.embed(label)\n",
        "        label_embed = label_embed.view(label_embed.size(0),1,100,25)\n",
        "        finalInput = torch.cat([x, label_embed], dim=1)\n",
        "        finalInput = self.input(finalInput)\n",
        "        finalInput = self.hiddenLayers(finalInput)\n",
        "        finalInput = finalInput.view(finalInput.size(0),-1)\n",
        "        finalInput = self.fc(finalInput)\n",
        "        finalInput = self.output(finalInput)\n",
        "        return finalInput"
      ]
    },
    {
      "cell_type": "code",
      "execution_count": 18,
      "metadata": {
        "id": "29nafh9SgDpE"
      },
      "outputs": [],
      "source": [
        "class Generator(nn.Module):\n",
        "    def __init__(self):\n",
        "        super().__init__()\n",
        "        self.embed = nn.Embedding(61, 100)\n",
        "        self.input = nn.Sequential(\n",
        "            nn.ConvTranspose2d(200, 512, 4, 1, 0),\n",
        "            nn.BatchNorm2d(512),\n",
        "            nn.ReLU()\n",
        "        )\n",
        "        self.hiddenlayers = nn.Sequential(\n",
        "            nn.ConvTranspose2d(512, 256, 4, 2, 1),\n",
        "            nn.BatchNorm2d(256),\n",
        "            nn.ReLU(), \n",
        "            nn.ConvTranspose2d(256, 128, 4, 2, 1),\n",
        "            nn.BatchNorm2d(128),\n",
        "            nn.ReLU(),  \n",
        "            nn.ConvTranspose2d(128, 64, 4, 2, 1),\n",
        "            nn.BatchNorm2d(64),\n",
        "            nn.ReLU(),         \n",
        "            nn.ConvTranspose2d(64, 16, 4 , 2, 1) \n",
        "        )\n",
        "        self.layer = nn.Linear(65536, 7500)\n",
        "        self.output = nn.Tanh()\n",
        "    def forward(self,x, label):\n",
        "        labelEmb = self.embed(label)\n",
        "        labelEmb = labelEmb.view(labelEmb.size(0), 100, 1, 1)\n",
        "        finalInput = torch.cat([x, labelEmb], dim = 1)\n",
        "        finalInput = self.input(finalInput)\n",
        "        finalInput = self.hiddenlayers(finalInput)\n",
        "        finalInput = finalInput.view(finalInput.size(0),-1)\n",
        "        finalInput = self.layer(finalInput)\n",
        "        \n",
        "        finalInput = finalInput.view(finalInput.size(0), 3, 100, 25)\n",
        "        return self.output(finalInput)"
      ]
    },
    {
      "cell_type": "code",
      "execution_count": 19,
      "metadata": {
        "id": "B9nqihkPgDpE"
      },
      "outputs": [],
      "source": [
        "device = torch.device('cuda' if torch.cuda.is_available() else 'cpu')"
      ]
    },
    {
      "cell_type": "code",
      "source": [
        "device"
      ],
      "metadata": {
        "colab": {
          "base_uri": "https://localhost:8080/"
        },
        "id": "gnicS0Atp-qy",
        "outputId": "e1ad9739-5f7e-47f7-efa5-cc7936ce4da2"
      },
      "execution_count": 20,
      "outputs": [
        {
          "output_type": "execute_result",
          "data": {
            "text/plain": [
              "device(type='cuda')"
            ]
          },
          "metadata": {},
          "execution_count": 20
        }
      ]
    },
    {
      "cell_type": "code",
      "execution_count": 21,
      "metadata": {
        "id": "xy2OlgnOgDpF"
      },
      "outputs": [],
      "source": [
        "'''\n",
        "Models\n",
        "'''\n",
        "generator = Generator().to(device)\n",
        "discriminator = Discriminator().to(device)"
      ]
    },
    {
      "cell_type": "code",
      "execution_count": 22,
      "metadata": {
        "id": "xmLnKnVPgDpF"
      },
      "outputs": [],
      "source": [
        "'''\n",
        "Losses\n",
        "'''\n",
        "adversarial_loss = nn.BCELoss()\n",
        "adversarial_loss = adversarial_loss.cuda()"
      ]
    },
    {
      "cell_type": "code",
      "execution_count": 23,
      "metadata": {
        "id": "qeFwNg9GgDpF"
      },
      "outputs": [],
      "source": [
        "optimizer_G = torch.optim.Adam(generator.parameters(),lr=0.00002, betas=(0.5, 0.999) )\n",
        "optimizer_D = torch.optim.Adam(discriminator.parameters(),lr=0.00002, betas=(0.5, 0.999))"
      ]
    },
    {
      "cell_type": "code",
      "execution_count": 24,
      "metadata": {
        "id": "z6GaCHYjgDpF"
      },
      "outputs": [],
      "source": [
        "cuda = torch.cuda.is_available()"
      ]
    },
    {
      "cell_type": "code",
      "execution_count": 25,
      "metadata": {
        "id": "44hbbkGdgDpG"
      },
      "outputs": [],
      "source": [
        "Tensor = torch.cuda.FloatTensor if cuda else torch.FloatTensor\n",
        "\n",
        "epochs = 2000"
      ]
    },
    {
      "cell_type": "code",
      "execution_count": 30,
      "metadata": {
        "id": "fR3UCfCfgDpG"
      },
      "outputs": [],
      "source": [
        "for epoch in tqdm(range(epochs)):\n",
        "    gLoss = -1\n",
        "    dLoss = -1\n",
        "    f1score = float(\"inf\")\n",
        "    for index, (data, label) in enumerate(dataloader):\n",
        "\n",
        "        valid = Variable(Tensor(data.size(0), 1).fill_(1.0), requires_grad=False)\n",
        "        fake = Variable(Tensor(data.size(0), 1).fill_(0.0), requires_grad=False)\n",
        "\n",
        "        label = label.to(device)\n",
        "\n",
        "        real_imgs = Variable(data.type(Tensor))\n",
        "        optimizer_G.zero_grad()\n",
        "\n",
        "        z = Variable(Tensor(np.random.normal(0, 1, (data.shape[0], 100,1,1))))\n",
        "\n",
        "        gen_imgs = generator(z,label)\n",
        "\n",
        "        gen_imgs = gen_imgs.to(device)\n",
        "\n",
        "        g_loss = adversarial_loss(discriminator(gen_imgs,label), valid)\n",
        "        g_loss.backward()\n",
        "        optimizer_G.step()\n",
        "\n",
        "        optimizer_D.zero_grad()\n",
        "\n",
        "        real_loss = adversarial_loss(discriminator(real_imgs,label), valid)\n",
        "        fake_loss = adversarial_loss(discriminator(gen_imgs.detach(),label), fake)\n",
        "\n",
        "        d_loss = (real_loss + fake_loss)\n",
        "\n",
        "        d_loss.backward()\n",
        "\n",
        "        optimizer_D.step()\n",
        "\n",
        "        gLoss = g_loss.item()\n",
        "        dLoss = d_loss.item()\n",
        "\n",
        "        f1Temp = -(gLoss * dLoss) / (gLoss + dLoss)\n",
        "        if f1Temp < f1score:\n",
        "            f1score = f1Temp\n",
        "            # torch.save(generator.state_dict(),'Models/generator.pth')\n",
        "    if (epoch+1)%50 == 0:\n",
        "        print('gLoss ==>',round(gLoss,4))\n",
        "        print(\"dLoss ==>\",round(dLoss,4))"
      ]
    },
    {
      "cell_type": "code",
      "execution_count": 28,
      "metadata": {
        "id": "ihnTSnxSgDpG"
      },
      "outputs": [],
      "source": [
        "images = generator(torch.randn(1, 100 , 1 , 1).to(device), torch.tensor([[1]]).to(device))"
      ]
    },
    {
      "cell_type": "code",
      "source": [
        ""
      ],
      "metadata": {
        "id": "nB-PZxi5sh2z"
      },
      "execution_count": null,
      "outputs": []
    }
  ],
  "metadata": {
    "accelerator": "GPU",
    "colab": {
      "name": "cDCGAN_NTU_data.ipynb",
      "provenance": []
    },
    "interpreter": {
      "hash": "43d067841d78aac7fa29634787a4d238b2cfa1e9a088c54a4c88156792dfd315"
    },
    "kernelspec": {
      "display_name": "Python 3.9.12 ('machineLearning')",
      "language": "python",
      "name": "python3"
    },
    "language_info": {
      "codemirror_mode": {
        "name": "ipython",
        "version": 3
      },
      "file_extension": ".py",
      "mimetype": "text/x-python",
      "name": "python",
      "nbconvert_exporter": "python",
      "pygments_lexer": "ipython3",
      "version": "3.9.12"
    }
  },
  "nbformat": 4,
  "nbformat_minor": 0
}